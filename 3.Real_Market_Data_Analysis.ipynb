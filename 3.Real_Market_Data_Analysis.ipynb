{
 "cells": [
  {
   "cell_type": "code",
   "execution_count": 13,
   "id": "645d226b",
   "metadata": {},
   "outputs": [
    {
     "name": "stdout",
     "output_type": "stream",
     "text": [
      "📊 Volatility Estimators Project\n",
      "=================================\n",
      "Notebook 3: Real Market Data Analysis\n",
      "Using high-frequency data as benchmark\n"
     ]
    }
   ],
   "source": [
    "# Setup and Imports\n",
    "import numpy as np\n",
    "import pandas as pd\n",
    "import matplotlib.pyplot as plt\n",
    "import seaborn as sns\n",
    "import yfinance as yf\n",
    "from datetime import datetime, timedelta\n",
    "import warnings\n",
    "warnings.filterwarnings('ignore')\n",
    "\n",
    "print(\"📊 Volatility Estimators Project\")\n",
    "print(\"=================================\")\n",
    "print(\"Notebook 3: Real Market Data Analysis\")\n",
    "print(\"Using high-frequency data as benchmark\")\n",
    "\n",
    "np.random.seed(42)\n",
    "plt.style.use('seaborn-v0_8')\n",
    "\n",
    "# Import our implementations\n",
    "from volatility_estimators.core import VolatilityEstimators, DataSimulator, PerformanceMetrics"
   ]
  },
  {
   "cell_type": "code",
   "execution_count": 14,
   "id": "4464742c",
   "metadata": {},
   "outputs": [
    {
     "name": "stdout",
     "output_type": "stream",
     "text": [
      "✅ Realized variance calculator implemented\n"
     ]
    }
   ],
   "source": [
    "# Realized Variance Calculator\n",
    "from volatility_estimators.data_loader import RealizedVariance\n",
    "\n",
    "print(\"✅ Realized variance calculator implemented\")"
   ]
  },
  {
   "cell_type": "code",
   "execution_count": 15,
   "id": "3fbe6036",
   "metadata": {},
   "outputs": [
    {
     "name": "stdout",
     "output_type": "stream",
     "text": [
      "📥 Downloading Real Market Data\n",
      "===============================\n",
      "Downloading data from 2023-01-01 to 2024-10-22\n",
      "Downloading Equity (SPY)...\n",
      "  ✅ Daily: 453 bars\n"
     ]
    },
    {
     "name": "stderr",
     "output_type": "stream",
     "text": [
      "\n",
      "1 Failed download:\n",
      "['SPY']: YFPricesMissingError('possibly delisted; no price data found  (5m 2024-09-21 -> 2024-10-21) (Yahoo error = \"5m data not available for startTime=1726891200 and endTime=1729483200. The requested range must be within the last 60 days.\")')\n"
     ]
    },
    {
     "name": "stdout",
     "output_type": "stream",
     "text": [
      "  ⚠️  No 5-min data, trying 1-hour data...\n",
      "  ✅ HF: 140 bars\n",
      "Downloading Tech Stock (AAPL)...\n",
      "  ✅ Daily: 453 bars\n"
     ]
    },
    {
     "name": "stderr",
     "output_type": "stream",
     "text": [
      "\n",
      "1 Failed download:\n",
      "['AAPL']: YFPricesMissingError('possibly delisted; no price data found  (5m 2024-09-21 -> 2024-10-21) (Yahoo error = \"5m data not available for startTime=1726891200 and endTime=1729483200. The requested range must be within the last 60 days.\")')\n"
     ]
    },
    {
     "name": "stdout",
     "output_type": "stream",
     "text": [
      "  ⚠️  No 5-min data, trying 1-hour data...\n",
      "  ✅ HF: 140 bars\n",
      "Downloading Currency (EURUSD=X)...\n",
      "  ✅ Daily: 471 bars\n"
     ]
    },
    {
     "name": "stderr",
     "output_type": "stream",
     "text": [
      "\n",
      "1 Failed download:\n",
      "['EURUSD=X']: YFPricesMissingError('possibly delisted; no price data found  (5m 2024-09-21 -> 2024-10-21) (Yahoo error = \"5m data not available for startTime=1726873200 and endTime=1729465200. The requested range must be within the last 60 days.\")')\n"
     ]
    },
    {
     "name": "stdout",
     "output_type": "stream",
     "text": [
      "  ⚠️  No 5-min data, trying 1-hour data...\n",
      "  ✅ HF: 476 bars\n",
      "Downloading Commodity (GC=F)...\n",
      "  ✅ Daily: 453 bars\n"
     ]
    },
    {
     "name": "stderr",
     "output_type": "stream",
     "text": [
      "\n",
      "1 Failed download:\n",
      "['GC=F']: YFPricesMissingError('possibly delisted; no price data found  (5m 2024-09-21 -> 2024-10-21) (Yahoo error = \"5m data not available for startTime=1726891200 and endTime=1729483200. The requested range must be within the last 60 days.\")')\n"
     ]
    },
    {
     "name": "stdout",
     "output_type": "stream",
     "text": [
      "  ⚠️  No 5-min data, trying 1-hour data...\n",
      "  ✅ HF: 466 bars\n",
      "Downloading Bond (TLT)...\n",
      "  ✅ Daily: 453 bars\n"
     ]
    },
    {
     "name": "stderr",
     "output_type": "stream",
     "text": [
      "\n",
      "1 Failed download:\n",
      "['TLT']: YFPricesMissingError('possibly delisted; no price data found  (5m 2024-09-21 -> 2024-10-21) (Yahoo error = \"5m data not available for startTime=1726891200 and endTime=1729483200. The requested range must be within the last 60 days.\")')\n"
     ]
    },
    {
     "name": "stdout",
     "output_type": "stream",
     "text": [
      "  ⚠️  No 5-min data, trying 1-hour data...\n",
      "  ✅ HF: 140 bars\n",
      "Downloading Crypto (BTC-USD)...\n",
      "  ✅ Daily: 660 bars\n"
     ]
    },
    {
     "name": "stderr",
     "output_type": "stream",
     "text": [
      "\n",
      "1 Failed download:\n",
      "['BTC-USD']: YFPricesMissingError('possibly delisted; no price data found  (5m 2024-09-21 -> 2024-10-21) (Yahoo error = \"5m data not available for startTime=1726876800 and endTime=1729468800. The requested range must be within the last 60 days.\")')\n"
     ]
    },
    {
     "name": "stdout",
     "output_type": "stream",
     "text": [
      "  ⚠️  No 5-min data, trying 1-hour data...\n",
      "  ✅ HF: 720 bars\n",
      "\n",
      "✅ Successfully downloaded DAILY data for 6/6 assets\n",
      "\n",
      "📊 Data Summary:\n",
      "================\n",
      "  Equity (SPY): 453 daily bars, 140 HF bars\n",
      "        Returns: μ=0.0010, σ=0.0080\n",
      "  Tech Stock (AAPL): 453 daily bars, 140 HF bars\n",
      "        Returns: μ=0.0015, σ=0.0138\n",
      "  Currency (EURUSD=X): 471 daily bars, 476 HF bars\n",
      "        Returns: μ=0.0000, σ=0.0042\n",
      "  Commodity (GC=F): 453 daily bars, 466 HF bars\n",
      "        Returns: μ=0.0009, σ=0.0086\n",
      "  Bond (TLT): 453 daily bars, 140 HF bars\n",
      "        Returns: μ=-0.0000, σ=0.0104\n",
      "  Crypto (BTC-USD): 660 daily bars, 720 HF bars\n",
      "        Returns: μ=0.0024, σ=0.0254\n"
     ]
    }
   ],
   "source": [
    "# Data Download and Processing\n",
    "print(\"📥 Downloading Real Market Data\")\n",
    "print(\"===============================\")\n",
    "\n",
    "assets = {\n",
    "    'Equity': 'SPY',           # S&P 500 ETF\n",
    "    'Tech Stock': 'AAPL',      # Apple stock\n",
    "    'Currency': 'EURUSD=X',    # EUR/USD\n",
    "    'Commodity': 'GC=F',       # Gold futures\n",
    "    'Bond': 'TLT',             # 20+ Year Treasury ETF\n",
    "    'Crypto': 'BTC-USD'        # Bitcoin\n",
    "}\n",
    "\n",
    "\n",
    "start_date = \"2023-01-01\"\n",
    "end_date = \"2024-10-22\"  \n",
    "\n",
    "print(f\"Downloading data from {start_date} to {end_date}\")\n",
    "\n",
    "all_data = {}\n",
    "failed_downloads = []\n",
    "\n",
    "for asset_class, ticker in assets.items():\n",
    "    print(f\"Downloading {asset_class} ({ticker})...\")\n",
    "    \n",
    "    try:\n",
    "        \n",
    "        daily_data = yf.download(ticker, start=start_date, end=end_date, interval='1d', progress=False)\n",
    "\n",
    "        if not daily_data.empty and len(daily_data) > 50:\n",
    "            print(f\"  ✅ Daily: {len(daily_data)} bars\")\n",
    "            \n",
    "            \n",
    "            last_available_date = daily_data.index[-1]\n",
    "            hf_start_date = (last_available_date - timedelta(days=30)).strftime('%Y-%m-%d')\n",
    "            hf_end_date = last_available_date.strftime('%Y-%m-%d')\n",
    "            \n",
    "            try:\n",
    "                \n",
    "                hf_data = yf.download(ticker, start=hf_start_date, end=hf_end_date, interval='5m', progress=False)\n",
    "                \n",
    "                if hf_data.empty or len(hf_data) < 10:\n",
    "                    \n",
    "                    print(f\"  ⚠️  No 5-min data, trying 1-hour data...\")\n",
    "                    hf_data = yf.download(ticker, start=hf_start_date, end=hf_end_date, interval='1h', progress=False)\n",
    "                \n",
    "            except Exception as hf_error:\n",
    "                print(f\"  ⚠️  High-frequency download failed: {str(hf_error)[:50]}\")\n",
    "                hf_data = None\n",
    "            \n",
    "            \n",
    "            all_data[asset_class] = {\n",
    "                'ticker': ticker,\n",
    "                'daily': daily_data,\n",
    "                'high_freq': hf_data\n",
    "            }\n",
    "            \n",
    "            if hf_data is not None and not hf_data.empty:\n",
    "                print(f\"  ✅ HF: {len(hf_data)} bars\")\n",
    "            else:\n",
    "                print(f\"  ⚠️  No high-frequency data available\")\n",
    "                \n",
    "        else:\n",
    "            print(f\"  ❌ Insufficient daily data: {len(daily_data) if not daily_data.empty else 0} bars\")\n",
    "            failed_downloads.append(asset_class)\n",
    "            \n",
    "    except Exception as e:\n",
    "        print(f\"  ❌ Download failed: {str(e)[:50]}\")\n",
    "        failed_downloads.append(asset_class)\n",
    "\n",
    "print(f\"\\n✅ Successfully downloaded DAILY data for {len(all_data)}/{len(assets)} assets\")\n",
    "\n",
    "if all_data:\n",
    "    print(\"\\n📊 Data Summary:\")\n",
    "    print(\"================\")\n",
    "    for asset_class, data in all_data.items():\n",
    "        ticker = data['ticker']\n",
    "        daily_len = len(data['daily'])\n",
    "        hf_len = len(data['high_freq']) if data['high_freq'] is not None else 0\n",
    "        start_date = data['daily'].index[0].strftime('%Y-%m-%d')\n",
    "        end_date = data['daily'].index[-1].strftime('%Y-%m-%d')\n",
    "        \n",
    "        hf_status = f\"{hf_len} HF bars\" if hf_len > 0 else \"No HF data\"\n",
    "        print(f\"  {asset_class} ({ticker}): {daily_len} daily bars, {hf_status}\")\n",
    "        \n",
    "        try:\n",
    "    \n",
    "            close_prices = data['daily']['Close']\n",
    "            returns = close_prices.pct_change().dropna()\n",
    "            \n",
    "            \n",
    "            mean_return = returns.mean()\n",
    "            std_return = returns.std()\n",
    "            \n",
    "            \n",
    "            if hasattr(mean_return, 'iloc'):\n",
    "                mean_return = mean_return.iloc[0]\n",
    "            if hasattr(std_return, 'iloc'):\n",
    "                std_return = std_return.iloc[0]\n",
    "                \n",
    "            print(f\"        Returns: μ={float(mean_return):.4f}, σ={float(std_return):.4f}\")\n",
    "        except Exception as e:\n",
    "            print(f\"        Returns: Could not calculate - {str(e)[:50]}\")\n",
    "\n",
    "if failed_downloads:\n",
    "    print(f\"\\n❌ Failed: {failed_downloads}\")"
   ]
  },
  {
   "cell_type": "code",
   "execution_count": 16,
   "id": "6498d200",
   "metadata": {},
   "outputs": [
    {
     "name": "stdout",
     "output_type": "stream",
     "text": [
      "🎯 Calculating Realized Variance Benchmark\n",
      "=========================================\n",
      "Processing Equity...\n",
      "  ✅ Mean RV: 0.0780\n",
      "Processing Tech Stock...\n",
      "  ✅ Mean RV: 0.1804\n",
      "Processing Currency...\n",
      "  ✅ Mean RV: 0.0476\n",
      "Processing Commodity...\n",
      "  ✅ Mean RV: 0.1003\n",
      "Processing Bond...\n",
      "  ✅ Mean RV: 0.1154\n",
      "Processing Crypto...\n",
      "  ✅ Mean RV: 0.3005\n",
      "\n",
      "📊 Realized Variance Summary:\n",
      "  Equity: 0.0780\n",
      "  Tech Stock: 0.1804\n",
      "  Currency: 0.0476\n",
      "  Commodity: 0.1003\n",
      "  Bond: 0.1154\n",
      "  Crypto: 0.3005\n"
     ]
    }
   ],
   "source": [
    "# Calculate Realized Variance Benchmark\n",
    "print(\"🎯 Calculating Realized Variance Benchmark\")\n",
    "print(\"=========================================\")\n",
    "\n",
    "rv_calculator = RealizedVariance()\n",
    "benchmark_results = {}\n",
    "\n",
    "for asset_class, data in all_data.items():\n",
    "    print(f\"Processing {asset_class}...\")\n",
    "    \n",
    "    try:\n",
    "        daily_rv = rv_calculator.calculate_daily_rv(data['high_freq'])\n",
    "        annualized_rv = rv_calculator.annualize_rv(daily_rv)\n",
    "        benchmark_results[asset_class] = {\n",
    "            'daily_rv': daily_rv,\n",
    "            'annualized_rv': annualized_rv,\n",
    "            'mean_annualized_rv': np.mean(annualized_rv)\n",
    "        }\n",
    "        \n",
    "        print(f\"  ✅ Mean RV: {benchmark_results[asset_class]['mean_annualized_rv']:.4f}\")\n",
    "        \n",
    "    except Exception as e:\n",
    "        print(f\"  ❌ Error calculating RV for {asset_class}: {e}\")\n",
    "        benchmark_results[asset_class] = None\n",
    "\n",
    "print(\"\\n📊 Realized Variance Summary:\")\n",
    "for asset_class, result in benchmark_results.items():\n",
    "    if result is not None:\n",
    "        print(f\"  {asset_class}: {result['mean_annualized_rv']:.4f}\")"
   ]
  },
  {
   "cell_type": "code",
   "execution_count": null,
   "id": "6ff8940c",
   "metadata": {},
   "outputs": [
    {
     "name": "stdout",
     "output_type": "stream",
     "text": [
      "🧮 Calculating Volatility Estimators on Real Data\n",
      "================================================\n",
      "Calculating estimators for Equity...\n",
      "  ✅ Benchmark RV: 0.0780\n",
      "Calculating estimators for Tech Stock...\n",
      "  ✅ Benchmark RV: 0.1804\n",
      "Calculating estimators for Currency...\n",
      "  ✅ Benchmark RV: 0.0476\n",
      "Calculating estimators for Commodity...\n",
      "  ✅ Benchmark RV: 0.1003\n",
      "Calculating estimators for Bond...\n",
      "  ✅ Benchmark RV: 0.1154\n",
      "Calculating estimators for Crypto...\n",
      "  ✅ Benchmark RV: 0.3005\n",
      "\n",
      "✅ Real data analysis complete!\n"
     ]
    }
   ],
   "source": [
    "# Calculate Estimators on Real Data\n",
    "from volatility_estimators.core import VolatilityEstimators\n",
    "print(\"🧮 Calculating Volatility Estimators on Real Data\")\n",
    "print(\"================================================\")\n",
    "\n",
    "window = 30\n",
    "estimator = VolatilityEstimators(window=window)\n",
    "\n",
    "real_world_results = {}\n",
    "\n",
    "for asset_class, data in all_data.items():\n",
    "    if asset_class not in benchmark_results or benchmark_results[asset_class] is None:\n",
    "        continue\n",
    "        \n",
    "    print(f\"Calculating estimators for {asset_class}...\")\n",
    "    \n",
    "    daily_data = data['daily']\n",
    "    results = {}\n",
    "    \n",
    "    test_period = daily_data.last('60D')\n",
    "    \n",
    "    if len(test_period) < window:\n",
    "        print(f\"  ❌ Insufficient data: {len(test_period)} days\")\n",
    "        continue\n",
    "    \n",
    "    estimators = {\n",
    "        'Close-to-Close': lambda: estimator.close_to_close(test_period['Close']),\n",
    "        'Parkinson': lambda: estimator.parkinson(test_period['High'], test_period['Low']),\n",
    "        'Garman-Klass': lambda: estimator.garman_klass(test_period['Open'], test_period['High'], \n",
    "                                                      test_period['Low'], test_period['Close']),\n",
    "        'Rogers-Satchell': lambda: estimator.rogers_satchell(test_period['Open'], test_period['High'],\n",
    "                                                            test_period['Low'], test_period['Close']),\n",
    "        'Yang-Zhang': lambda: estimator.yang_zhang(test_period['Open'], test_period['High'],\n",
    "                                                  test_period['Low'], test_period['Close'])\n",
    "    }\n",
    "    \n",
    "    for name, func in estimators.items():\n",
    "        try:\n",
    "            results[name] = func()\n",
    "        except Exception as e:\n",
    "            results[name] = np.nan\n",
    "            print(f\"  ❌ {name} failed: {e}\")\n",
    "    \n",
    "    real_world_results[asset_class] = {\n",
    "        'estimates': results,\n",
    "        'benchmark': benchmark_results[asset_class]['mean_annualized_rv'],\n",
    "        'data': test_period\n",
    "    }\n",
    "    \n",
    "    print(f\"  ✅ Benchmark RV: {benchmark_results[asset_class]['mean_annualized_rv']:.4f}\")\n",
    "\n",
    "print(\"\\n✅ Real data analysis complete!\")"
   ]
  },
  {
   "cell_type": "code",
   "execution_count": 18,
   "id": "63c9ffc9",
   "metadata": {},
   "outputs": [
    {
     "name": "stdout",
     "output_type": "stream",
     "text": [
      "📊 Performance on Real Market Data\n",
      "==================================\n",
      "📋 Performance DataFrame shape: (30, 7)\n",
      "📈 Performance Summary (vs Realized Variance):\n",
      "                 Absolute_Error   Error  Error_Pct\n",
      "Estimator                                         \n",
      "Close-to-Close           0.0140  0.0138    11.3844\n",
      "Parkinson                0.0197 -0.0074    -6.7015\n",
      "Garman-Klass             0.0222 -0.0031    -1.9860\n",
      "Rogers-Satchell          0.0228  0.0002     3.3065\n",
      "Yang-Zhang               0.0270  0.0248    26.5660\n",
      "\n",
      "🏆 Best Estimator by Asset Class:\n",
      "   Asset_Class        Estimator  Error_Pct\n",
      "20        Bond   Close-to-Close      -0.55\n",
      "19   Commodity       Yang-Zhang      -6.65\n",
      "25      Crypto   Close-to-Close       2.50\n",
      "11    Currency        Parkinson      -1.41\n",
      "0       Equity   Close-to-Close      19.70\n",
      "8   Tech Stock  Rogers-Satchell      -0.42\n"
     ]
    }
   ],
   "source": [
    "# Performance Comparison on Real Data\n",
    "print(\"📊 Performance on Real Market Data\")\n",
    "print(\"==================================\")\n",
    "\n",
    "# Calculate errors relative to realized variance\n",
    "performance_real = []\n",
    "\n",
    "for asset_class, results in real_world_results.items():\n",
    "    # Extract scalar value from benchmark (if it's a Series)\n",
    "    benchmark = results['benchmark']\n",
    "    if hasattr(benchmark, 'iloc'):  # It's a pandas Series\n",
    "        benchmark = benchmark.iloc[0] if len(benchmark) > 0 else np.nan\n",
    "    elif hasattr(benchmark, 'item'):  # It's a numpy array\n",
    "        benchmark = benchmark.item()\n",
    "    \n",
    "    # Skip if benchmark is not a valid number\n",
    "    if benchmark is None or np.isnan(benchmark) or benchmark == 0:\n",
    "        print(f\"⚠️  Skipping {asset_class}: invalid benchmark {benchmark}\")\n",
    "        continue\n",
    "    \n",
    "    for estimator_name, estimate in results['estimates'].items():\n",
    "        # Extract scalar value from estimate (if it's a Series)\n",
    "        if hasattr(estimate, 'iloc'):  # It's a pandas Series\n",
    "            estimate = estimate.iloc[0] if len(estimate) > 0 else np.nan\n",
    "        elif hasattr(estimate, 'item'):  # It's a numpy array\n",
    "            estimate = estimate.item()\n",
    "        \n",
    "        if estimate is not None and not np.isnan(estimate):\n",
    "            error = estimate - benchmark\n",
    "            error_pct = (error / benchmark) * 100\n",
    "            \n",
    "            performance_real.append({\n",
    "                'Asset_Class': asset_class,\n",
    "                'Estimator': estimator_name,\n",
    "                'Estimate': estimate,\n",
    "                'Benchmark': benchmark,\n",
    "                'Error': error,\n",
    "                'Error_Pct': error_pct,\n",
    "                'Absolute_Error': np.abs(error)\n",
    "            })\n",
    "\n",
    "performance_df = pd.DataFrame(performance_real)\n",
    "\n",
    "print(f\"📋 Performance DataFrame shape: {performance_df.shape}\")\n",
    "\n",
    "if performance_df.empty:\n",
    "    print(\"❌ No performance data to analyze!\")\n",
    "else:\n",
    "    # Calculate summary statistics\n",
    "    summary_stats = performance_df.groupby('Estimator').agg({\n",
    "        'Absolute_Error': 'mean',\n",
    "        'Error': 'mean',\n",
    "        'Error_Pct': 'mean'\n",
    "    }).round(4)\n",
    "\n",
    "    print(\"📈 Performance Summary (vs Realized Variance):\")\n",
    "    print(summary_stats.sort_values('Absolute_Error'))\n",
    "\n",
    "    # Best performer by asset class\n",
    "    best_by_asset = performance_df.loc[performance_df.groupby('Asset_Class')['Absolute_Error'].idxmin()]\n",
    "    print(\"\\n🏆 Best Estimator by Asset Class:\")\n",
    "    print(best_by_asset[['Asset_Class', 'Estimator', 'Error_Pct']].round(2))"
   ]
  }
 ],
 "metadata": {
  "kernelspec": {
   "display_name": "base",
   "language": "python",
   "name": "python3"
  },
  "language_info": {
   "codemirror_mode": {
    "name": "ipython",
    "version": 3
   },
   "file_extension": ".py",
   "mimetype": "text/x-python",
   "name": "python",
   "nbconvert_exporter": "python",
   "pygments_lexer": "ipython3",
   "version": "3.13.5"
  }
 },
 "nbformat": 4,
 "nbformat_minor": 5
}
